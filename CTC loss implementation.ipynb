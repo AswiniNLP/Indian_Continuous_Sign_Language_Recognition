{
 "cells": [
  {
   "cell_type": "code",
   "execution_count": 1,
   "id": "dee5998a",
   "metadata": {},
   "outputs": [],
   "source": [
    " # Target are to be padded\n",
    "    \n",
    "    \n",
    "T = 50      # Input sequence length\n",
    "C = 20      # Number of classes (including blank)\n",
    "N = 16      # Batch size\n",
    "S = 30      # Target sequence length of longest target in batch (padding length)\n",
    "S_min = 10  # Minimum target length, for demonstration purposes"
   ]
  },
  {
   "cell_type": "code",
   "execution_count": 15,
   "id": "6d9517f2",
   "metadata": {},
   "outputs": [],
   "source": [
    "# Initialize random batch of input vectors, for *size = (T,N,C)\n",
    "\n",
    "import torch\n",
    "\n",
    "input = torch.randn(T, N, C).log_softmax(2).detach().requires_grad_()"
   ]
  },
  {
   "cell_type": "code",
   "execution_count": 21,
   "id": "abfdbf7c",
   "metadata": {},
   "outputs": [
    {
     "data": {
      "text/plain": [
       "torch.Size([50, 16, 20])"
      ]
     },
     "execution_count": 21,
     "metadata": {},
     "output_type": "execute_result"
    }
   ],
   "source": [
    "input.shape"
   ]
  },
  {
   "cell_type": "markdown",
   "id": "5f49075a",
   "metadata": {},
   "source": [
    "Each sequence length has 20 classes and there are 50 such sequnces but in batch of size 16"
   ]
  },
  {
   "cell_type": "code",
   "execution_count": 22,
   "id": "d593425c",
   "metadata": {},
   "outputs": [],
   "source": [
    "# Initialize random batch of targets (0 = blank, 1:C = classes)\n",
    "\n",
    "target = torch.randint(low=1, high=C, size=(N, S), dtype=torch.long)"
   ]
  },
  {
   "cell_type": "code",
   "execution_count": 23,
   "id": "577deb27",
   "metadata": {},
   "outputs": [
    {
     "data": {
      "text/plain": [
       "torch.Size([16, 30])"
      ]
     },
     "execution_count": 23,
     "metadata": {},
     "output_type": "execute_result"
    }
   ],
   "source": [
    "target.shape"
   ]
  },
  {
   "cell_type": "markdown",
   "id": "8267725e",
   "metadata": {},
   "source": [
    "It will generate a matrix of 16 rows and 30 columns"
   ]
  },
  {
   "cell_type": "code",
   "execution_count": 25,
   "id": "55c8fb53",
   "metadata": {},
   "outputs": [],
   "source": [
    "input_lengths = torch.full(size=(N,), fill_value=T, dtype=torch.long)"
   ]
  },
  {
   "cell_type": "code",
   "execution_count": 28,
   "id": "451d4c01",
   "metadata": {},
   "outputs": [
    {
     "data": {
      "text/plain": [
       "tensor([50, 50, 50, 50, 50, 50, 50, 50, 50, 50, 50, 50, 50, 50, 50, 50])"
      ]
     },
     "execution_count": 28,
     "metadata": {},
     "output_type": "execute_result"
    }
   ],
   "source": [
    "input_lengths"
   ]
  },
  {
   "cell_type": "code",
   "execution_count": 29,
   "id": "2c387aa7",
   "metadata": {},
   "outputs": [],
   "source": [
    "target_lengths = torch.randint(low=S_min, high=S, size=(N,), dtype=torch.long)"
   ]
  },
  {
   "cell_type": "code",
   "execution_count": 30,
   "id": "b4b15e69",
   "metadata": {},
   "outputs": [
    {
     "data": {
      "text/plain": [
       "tensor([16, 10, 10, 22, 29, 29, 25, 28, 17, 22, 19, 13, 26, 27, 14, 26])"
      ]
     },
     "execution_count": 30,
     "metadata": {},
     "output_type": "execute_result"
    }
   ],
   "source": [
    "target_lengths"
   ]
  },
  {
   "cell_type": "code",
   "execution_count": 33,
   "id": "6a2644c5",
   "metadata": {},
   "outputs": [],
   "source": [
    "import torch.nn as nn\n",
    "ctc_loss = nn.CTCLoss()"
   ]
  },
  {
   "cell_type": "code",
   "execution_count": 34,
   "id": "aa0fb6b7",
   "metadata": {},
   "outputs": [],
   "source": [
    "loss = ctc_loss(input, target, input_lengths, target_lengths)"
   ]
  },
  {
   "cell_type": "code",
   "execution_count": null,
   "id": "69c8e727",
   "metadata": {},
   "outputs": [],
   "source": [
    "losses = []\n",
    "\n",
    "for i in 10:    \n",
    "        \n",
    "    loss = ctc_loss(input, target, input_lengths, target_lengths)\n",
    "    \n",
    "    losses.append(loss)\n",
    "    \n",
    "    loss.backward()\n",
    "    "
   ]
  }
 ],
 "metadata": {
  "kernelspec": {
   "display_name": "Python 3 (ipykernel)",
   "language": "python",
   "name": "python3"
  },
  "language_info": {
   "codemirror_mode": {
    "name": "ipython",
    "version": 3
   },
   "file_extension": ".py",
   "mimetype": "text/x-python",
   "name": "python",
   "nbconvert_exporter": "python",
   "pygments_lexer": "ipython3",
   "version": "3.7.13"
  }
 },
 "nbformat": 4,
 "nbformat_minor": 5
}
